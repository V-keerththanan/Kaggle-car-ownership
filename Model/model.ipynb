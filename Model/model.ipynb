{
 "cells": [
  {
   "cell_type": "code",
   "execution_count": 50,
   "metadata": {},
   "outputs": [],
   "source": [
    "import pandas as pd\n",
    "import numpy as np\n",
    "import matplotlib.pyplot as plt"
   ]
  },
  {
   "attachments": {},
   "cell_type": "markdown",
   "metadata": {},
   "source": [
    "#### EDA & Feature Engineering"
   ]
  },
  {
   "cell_type": "code",
   "execution_count": 51,
   "metadata": {},
   "outputs": [],
   "source": [
    "data=pd.read_csv(\"../Data/Car Ownership.csv\")"
   ]
  },
  {
   "cell_type": "code",
   "execution_count": 52,
   "metadata": {},
   "outputs": [
    {
     "data": {
      "text/html": [
       "<div>\n",
       "<style scoped>\n",
       "    .dataframe tbody tr th:only-of-type {\n",
       "        vertical-align: middle;\n",
       "    }\n",
       "\n",
       "    .dataframe tbody tr th {\n",
       "        vertical-align: top;\n",
       "    }\n",
       "\n",
       "    .dataframe thead th {\n",
       "        text-align: right;\n",
       "    }\n",
       "</style>\n",
       "<table border=\"1\" class=\"dataframe\">\n",
       "  <thead>\n",
       "    <tr style=\"text-align: right;\">\n",
       "      <th></th>\n",
       "      <th>Occupation</th>\n",
       "      <th>Monthly Income</th>\n",
       "      <th>Credit Score</th>\n",
       "      <th>Years of Employment</th>\n",
       "      <th>Finance Status</th>\n",
       "      <th>Finance History</th>\n",
       "      <th>Car</th>\n",
       "      <th>Number of Children</th>\n",
       "    </tr>\n",
       "  </thead>\n",
       "  <tbody>\n",
       "    <tr>\n",
       "      <th>0</th>\n",
       "      <td>Teacher</td>\n",
       "      <td>40000</td>\n",
       "      <td>750.0</td>\n",
       "      <td>10</td>\n",
       "      <td>Good</td>\n",
       "      <td>No issues</td>\n",
       "      <td>Yes</td>\n",
       "      <td>2</td>\n",
       "    </tr>\n",
       "    <tr>\n",
       "      <th>1</th>\n",
       "      <td>Engineer</td>\n",
       "      <td>60000</td>\n",
       "      <td>800.0</td>\n",
       "      <td>8</td>\n",
       "      <td>Good</td>\n",
       "      <td>No issues</td>\n",
       "      <td>Yes</td>\n",
       "      <td>1</td>\n",
       "    </tr>\n",
       "    <tr>\n",
       "      <th>2</th>\n",
       "      <td>Nurse</td>\n",
       "      <td>25000</td>\n",
       "      <td>650.0</td>\n",
       "      <td>5</td>\n",
       "      <td>Fair</td>\n",
       "      <td>Late payment 2 months ago</td>\n",
       "      <td>No</td>\n",
       "      <td>0</td>\n",
       "    </tr>\n",
       "    <tr>\n",
       "      <th>3</th>\n",
       "      <td>Doctor</td>\n",
       "      <td>80000</td>\n",
       "      <td>900.0</td>\n",
       "      <td>12</td>\n",
       "      <td>Excellent</td>\n",
       "      <td>No issues</td>\n",
       "      <td>Yes</td>\n",
       "      <td>3</td>\n",
       "    </tr>\n",
       "    <tr>\n",
       "      <th>4</th>\n",
       "      <td>Businessman</td>\n",
       "      <td>100000</td>\n",
       "      <td>700.0</td>\n",
       "      <td>15</td>\n",
       "      <td>Good</td>\n",
       "      <td>Late payment 6 months ago</td>\n",
       "      <td>Yes</td>\n",
       "      <td>2</td>\n",
       "    </tr>\n",
       "  </tbody>\n",
       "</table>\n",
       "</div>"
      ],
      "text/plain": [
       "    Occupation Monthly Income  Credit Score Years of Employment  \\\n",
       "0      Teacher          40000         750.0                  10   \n",
       "1     Engineer          60000         800.0                   8   \n",
       "2        Nurse          25000         650.0                   5   \n",
       "3       Doctor          80000         900.0                  12   \n",
       "4  Businessman         100000         700.0                  15   \n",
       "\n",
       "  Finance Status            Finance History  Car Number of Children  \n",
       "0           Good                  No issues  Yes                  2  \n",
       "1           Good                  No issues  Yes                  1  \n",
       "2           Fair  Late payment 2 months ago   No                  0  \n",
       "3      Excellent                  No issues  Yes                  3  \n",
       "4           Good  Late payment 6 months ago  Yes                  2  "
      ]
     },
     "execution_count": 52,
     "metadata": {},
     "output_type": "execute_result"
    }
   ],
   "source": [
    "data.head()"
   ]
  },
  {
   "cell_type": "code",
   "execution_count": 53,
   "metadata": {},
   "outputs": [
    {
     "name": "stdout",
     "output_type": "stream",
     "text": [
      "<class 'pandas.core.frame.DataFrame'>\n",
      "RangeIndex: 500 entries, 0 to 499\n",
      "Data columns (total 8 columns):\n",
      " #   Column               Non-Null Count  Dtype  \n",
      "---  ------               --------------  -----  \n",
      " 0   Occupation           490 non-null    object \n",
      " 1   Monthly Income       487 non-null    object \n",
      " 2   Credit Score         460 non-null    float64\n",
      " 3   Years of Employment  457 non-null    object \n",
      " 4   Finance Status       477 non-null    object \n",
      " 5   Finance History      472 non-null    object \n",
      " 6   Car                  480 non-null    object \n",
      " 7   Number of Children   375 non-null    object \n",
      "dtypes: float64(1), object(7)\n",
      "memory usage: 31.4+ KB\n"
     ]
    }
   ],
   "source": [
    "data.info()"
   ]
  },
  {
   "cell_type": "code",
   "execution_count": 54,
   "metadata": {},
   "outputs": [
    {
     "data": {
      "text/html": [
       "<div>\n",
       "<style scoped>\n",
       "    .dataframe tbody tr th:only-of-type {\n",
       "        vertical-align: middle;\n",
       "    }\n",
       "\n",
       "    .dataframe tbody tr th {\n",
       "        vertical-align: top;\n",
       "    }\n",
       "\n",
       "    .dataframe thead th {\n",
       "        text-align: right;\n",
       "    }\n",
       "</style>\n",
       "<table border=\"1\" class=\"dataframe\">\n",
       "  <thead>\n",
       "    <tr style=\"text-align: right;\">\n",
       "      <th></th>\n",
       "      <th>Credit Score</th>\n",
       "    </tr>\n",
       "  </thead>\n",
       "  <tbody>\n",
       "    <tr>\n",
       "      <th>count</th>\n",
       "      <td>460.000000</td>\n",
       "    </tr>\n",
       "    <tr>\n",
       "      <th>mean</th>\n",
       "      <td>702.969565</td>\n",
       "    </tr>\n",
       "    <tr>\n",
       "      <th>std</th>\n",
       "      <td>69.232323</td>\n",
       "    </tr>\n",
       "    <tr>\n",
       "      <th>min</th>\n",
       "      <td>500.000000</td>\n",
       "    </tr>\n",
       "    <tr>\n",
       "      <th>25%</th>\n",
       "      <td>650.000000</td>\n",
       "    </tr>\n",
       "    <tr>\n",
       "      <th>50%</th>\n",
       "      <td>700.000000</td>\n",
       "    </tr>\n",
       "    <tr>\n",
       "      <th>75%</th>\n",
       "      <td>750.000000</td>\n",
       "    </tr>\n",
       "    <tr>\n",
       "      <th>max</th>\n",
       "      <td>900.000000</td>\n",
       "    </tr>\n",
       "  </tbody>\n",
       "</table>\n",
       "</div>"
      ],
      "text/plain": [
       "       Credit Score\n",
       "count    460.000000\n",
       "mean     702.969565\n",
       "std       69.232323\n",
       "min      500.000000\n",
       "25%      650.000000\n",
       "50%      700.000000\n",
       "75%      750.000000\n",
       "max      900.000000"
      ]
     },
     "execution_count": 54,
     "metadata": {},
     "output_type": "execute_result"
    }
   ],
   "source": [
    "data.describe()"
   ]
  },
  {
   "cell_type": "code",
   "execution_count": 55,
   "metadata": {},
   "outputs": [
    {
     "data": {
      "text/plain": [
       "Yes    301\n",
       "No     179\n",
       "Name: Car, dtype: int64"
      ]
     },
     "execution_count": 55,
     "metadata": {},
     "output_type": "execute_result"
    }
   ],
   "source": [
    "data['Car'].value_counts()"
   ]
  },
  {
   "cell_type": "code",
   "execution_count": 56,
   "metadata": {},
   "outputs": [
    {
     "name": "stdout",
     "output_type": "stream",
     "text": [
      "--------------Occupation--------------\n",
      "Chef                         34\n",
      "Electrician                  19\n",
      "Graphic Designer             17\n",
      "Nurse                        16\n",
      "Architect                    13\n",
      "                             ..\n",
      "Retail Salesperson            1\n",
      "Bartender                     1\n",
      "Librarian                     1\n",
      "Elementary School Teacher     1\n",
      "Customer Support              1\n",
      "Name: Occupation, Length: 116, dtype: int64\n",
      "\n",
      "\n",
      "--------------Monthly Income--------------\n",
      "$4,500       33\n",
      "$3,500       27\n",
      "$3,200       20\n",
      "$4,200       18\n",
      "$3,000       18\n",
      "             ..\n",
      "10000 USD     1\n",
      "3500 USD      1\n",
      "2.5k          1\n",
      "6000 usd      1\n",
      "$7            1\n",
      "Name: Monthly Income, Length: 98, dtype: int64\n",
      "\n",
      "\n",
      "--------------Credit Score--------------\n",
      "670.0    32\n",
      "680.0    31\n",
      "720.0    29\n",
      "650.0    27\n",
      "690.0    22\n",
      "         ..\n",
      "830.0     1\n",
      "770.0     1\n",
      "890.0     1\n",
      "840.0     1\n",
      "641.0     1\n",
      "Name: Credit Score, Length: 64, dtype: int64\n",
      "\n",
      "\n",
      "--------------Years of Employment--------------\n",
      "4 years     74\n",
      "3 years     58\n",
      "2 years     54\n",
      "5 years     53\n",
      "6 years     49\n",
      "1 year      39\n",
      "7 years     31\n",
      "8 years     13\n",
      "3            9\n",
      "10           8\n",
      "1            7\n",
      "8            7\n",
      "9 years      6\n",
      "5            6\n",
      "2            5\n",
      "4            4\n",
      "6            4\n",
      "10 years     4\n",
      "12           4\n",
      "7            3\n",
      "7 y          2\n",
      "2 year       2\n",
      "2 y          2\n",
      "15           2\n",
      "20           2\n",
      "3 year       1\n",
      "6 year       1\n",
      "12 years     1\n",
      "3 y          1\n",
      "11 years     1\n",
      "7 year       1\n",
      "8 year       1\n",
      "4 year       1\n",
      "5 year       1\n",
      "Name: Years of Employment, dtype: int64\n",
      "\n",
      "\n",
      "--------------Finance Status--------------\n",
      "Stable       304\n",
      "Unstable      87\n",
      "Fair          28\n",
      "Good          26\n",
      "Excellent     22\n",
      "Poor           8\n",
      "Unknow         1\n",
      "Unkonw         1\n",
      "Name: Finance Status, dtype: int64\n",
      "\n",
      "\n",
      "--------------Finance History--------------\n",
      "No significant issues                        313\n",
      "Missed payments in the past                   52\n",
      "Late payments                                 31\n",
      "Late payments, collections                    17\n",
      "No issues                                     12\n",
      "Poor                                          12\n",
      "Excellent                                     10\n",
      "Good                                           8\n",
      "Fair                                           6\n",
      "Late payment 2 months ago                      2\n",
      "Late payment 6 months ago                      2\n",
      "Late payment 3 months ago                      2\n",
      "Late payment 1 month ago                       2\n",
      "Late payment                                   1\n",
      "No significant issue                           1\n",
      "Missed payments, collections, charge-offs      1\n",
      "Name: Finance History, dtype: int64\n",
      "\n",
      "\n",
      "--------------Car--------------\n",
      "Yes    301\n",
      "No     179\n",
      "Name: Car, dtype: int64\n",
      "\n",
      "\n",
      "--------------Number of Children--------------\n",
      "0     120\n",
      "1     112\n",
      "2      95\n",
      "na     29\n",
      "3      18\n",
      "4       1\n",
      "Name: Number of Children, dtype: int64\n",
      "\n",
      "\n"
     ]
    }
   ],
   "source": [
    "for col in data.columns:\n",
    "    print(f\"--------------{col}--------------\")\n",
    "    print(data[col].value_counts())\n",
    "    print(\"\\n\")"
   ]
  },
  {
   "attachments": {},
   "cell_type": "markdown",
   "metadata": {},
   "source": [
    "#### converting columns into their correct format"
   ]
  },
  {
   "cell_type": "code",
   "execution_count": 57,
   "metadata": {},
   "outputs": [],
   "source": [
    "def removeUnnecessaryString(element):\n",
    "    final=\"\"\n",
    "    for c in str(element):\n",
    "        if c.isnumeric():\n",
    "            final+=c\n",
    "    if final!=\"\":\n",
    "        return float(final)\n",
    "    else:\n",
    "        return np.nan"
   ]
  },
  {
   "cell_type": "code",
   "execution_count": 58,
   "metadata": {},
   "outputs": [
    {
     "data": {
      "text/html": [
       "<div>\n",
       "<style scoped>\n",
       "    .dataframe tbody tr th:only-of-type {\n",
       "        vertical-align: middle;\n",
       "    }\n",
       "\n",
       "    .dataframe tbody tr th {\n",
       "        vertical-align: top;\n",
       "    }\n",
       "\n",
       "    .dataframe thead th {\n",
       "        text-align: right;\n",
       "    }\n",
       "</style>\n",
       "<table border=\"1\" class=\"dataframe\">\n",
       "  <thead>\n",
       "    <tr style=\"text-align: right;\">\n",
       "      <th></th>\n",
       "      <th>Occupation</th>\n",
       "      <th>Monthly Income</th>\n",
       "      <th>Credit Score</th>\n",
       "      <th>Years of Employment</th>\n",
       "      <th>Finance Status</th>\n",
       "      <th>Finance History</th>\n",
       "      <th>Car</th>\n",
       "      <th>Number of Children</th>\n",
       "    </tr>\n",
       "  </thead>\n",
       "  <tbody>\n",
       "    <tr>\n",
       "      <th>0</th>\n",
       "      <td>Teacher</td>\n",
       "      <td>40000</td>\n",
       "      <td>750.0</td>\n",
       "      <td>10</td>\n",
       "      <td>Good</td>\n",
       "      <td>No issues</td>\n",
       "      <td>Yes</td>\n",
       "      <td>2</td>\n",
       "    </tr>\n",
       "    <tr>\n",
       "      <th>1</th>\n",
       "      <td>Engineer</td>\n",
       "      <td>60000</td>\n",
       "      <td>800.0</td>\n",
       "      <td>8</td>\n",
       "      <td>Good</td>\n",
       "      <td>No issues</td>\n",
       "      <td>Yes</td>\n",
       "      <td>1</td>\n",
       "    </tr>\n",
       "    <tr>\n",
       "      <th>2</th>\n",
       "      <td>Nurse</td>\n",
       "      <td>25000</td>\n",
       "      <td>650.0</td>\n",
       "      <td>5</td>\n",
       "      <td>Fair</td>\n",
       "      <td>Late payment 2 months ago</td>\n",
       "      <td>No</td>\n",
       "      <td>0</td>\n",
       "    </tr>\n",
       "    <tr>\n",
       "      <th>3</th>\n",
       "      <td>Doctor</td>\n",
       "      <td>80000</td>\n",
       "      <td>900.0</td>\n",
       "      <td>12</td>\n",
       "      <td>Excellent</td>\n",
       "      <td>No issues</td>\n",
       "      <td>Yes</td>\n",
       "      <td>3</td>\n",
       "    </tr>\n",
       "    <tr>\n",
       "      <th>4</th>\n",
       "      <td>Businessman</td>\n",
       "      <td>100000</td>\n",
       "      <td>700.0</td>\n",
       "      <td>15</td>\n",
       "      <td>Good</td>\n",
       "      <td>Late payment 6 months ago</td>\n",
       "      <td>Yes</td>\n",
       "      <td>2</td>\n",
       "    </tr>\n",
       "    <tr>\n",
       "      <th>...</th>\n",
       "      <td>...</td>\n",
       "      <td>...</td>\n",
       "      <td>...</td>\n",
       "      <td>...</td>\n",
       "      <td>...</td>\n",
       "      <td>...</td>\n",
       "      <td>...</td>\n",
       "      <td>...</td>\n",
       "    </tr>\n",
       "    <tr>\n",
       "      <th>495</th>\n",
       "      <td>Project Manager</td>\n",
       "      <td>$7,000</td>\n",
       "      <td>730.0</td>\n",
       "      <td>5 years</td>\n",
       "      <td>Stable</td>\n",
       "      <td>No significant issues</td>\n",
       "      <td>Yes</td>\n",
       "      <td>0</td>\n",
       "    </tr>\n",
       "    <tr>\n",
       "      <th>496</th>\n",
       "      <td>Chef</td>\n",
       "      <td>$4,500</td>\n",
       "      <td>680.0</td>\n",
       "      <td>4 years</td>\n",
       "      <td>Stable</td>\n",
       "      <td>No significant issues</td>\n",
       "      <td>Yes</td>\n",
       "      <td>0</td>\n",
       "    </tr>\n",
       "    <tr>\n",
       "      <th>497</th>\n",
       "      <td>Interior Designer</td>\n",
       "      <td>$5,500</td>\n",
       "      <td>690.0</td>\n",
       "      <td>4 years</td>\n",
       "      <td>Stable</td>\n",
       "      <td>No significant issues</td>\n",
       "      <td>Yes</td>\n",
       "      <td>1</td>\n",
       "    </tr>\n",
       "    <tr>\n",
       "      <th>498</th>\n",
       "      <td>Medical Assistant</td>\n",
       "      <td>$3,500</td>\n",
       "      <td>640.0</td>\n",
       "      <td>3 years</td>\n",
       "      <td>Stable</td>\n",
       "      <td>No significant issues</td>\n",
       "      <td>No</td>\n",
       "      <td>1</td>\n",
       "    </tr>\n",
       "    <tr>\n",
       "      <th>499</th>\n",
       "      <td>Customer Service Rep</td>\n",
       "      <td>$3,200</td>\n",
       "      <td>641.0</td>\n",
       "      <td>4 years</td>\n",
       "      <td>Stable</td>\n",
       "      <td>No significant issues</td>\n",
       "      <td>No</td>\n",
       "      <td>2</td>\n",
       "    </tr>\n",
       "  </tbody>\n",
       "</table>\n",
       "<p>500 rows × 8 columns</p>\n",
       "</div>"
      ],
      "text/plain": [
       "               Occupation Monthly Income  Credit Score Years of Employment  \\\n",
       "0                 Teacher          40000         750.0                  10   \n",
       "1                Engineer          60000         800.0                   8   \n",
       "2                   Nurse          25000         650.0                   5   \n",
       "3                  Doctor          80000         900.0                  12   \n",
       "4             Businessman         100000         700.0                  15   \n",
       "..                    ...            ...           ...                 ...   \n",
       "495       Project Manager        $7,000          730.0             5 years   \n",
       "496                  Chef        $4,500          680.0             4 years   \n",
       "497     Interior Designer        $5,500          690.0             4 years   \n",
       "498     Medical Assistant        $3,500          640.0             3 years   \n",
       "499  Customer Service Rep        $3,200          641.0             4 years   \n",
       "\n",
       "    Finance Status            Finance History  Car Number of Children  \n",
       "0             Good                  No issues  Yes                  2  \n",
       "1             Good                  No issues  Yes                  1  \n",
       "2             Fair  Late payment 2 months ago   No                  0  \n",
       "3        Excellent                  No issues  Yes                  3  \n",
       "4             Good  Late payment 6 months ago  Yes                  2  \n",
       "..             ...                        ...  ...                ...  \n",
       "495         Stable      No significant issues  Yes                  0  \n",
       "496         Stable      No significant issues  Yes                  0  \n",
       "497         Stable      No significant issues  Yes                  1  \n",
       "498         Stable      No significant issues   No                  1  \n",
       "499         Stable      No significant issues   No                  2  \n",
       "\n",
       "[500 rows x 8 columns]"
      ]
     },
     "execution_count": 58,
     "metadata": {},
     "output_type": "execute_result"
    }
   ],
   "source": [
    "data"
   ]
  },
  {
   "cell_type": "code",
   "execution_count": 59,
   "metadata": {},
   "outputs": [],
   "source": [
    "data['Monthly Income']=data['Monthly Income'].apply(removeUnnecessaryString)\n",
    "data['Years of Employment']=data['Years of Employment'].apply(removeUnnecessaryString)\n",
    "data['Number of Children']=data['Number of Children'].apply(removeUnnecessaryString)"
   ]
  },
  {
   "attachments": {},
   "cell_type": "markdown",
   "metadata": {},
   "source": [
    "#### Handle null values"
   ]
  },
  {
   "cell_type": "code",
   "execution_count": 60,
   "metadata": {},
   "outputs": [
    {
     "data": {
      "text/plain": [
       "Occupation              10\n",
       "Monthly Income          14\n",
       "Credit Score            40\n",
       "Years of Employment     43\n",
       "Finance Status          23\n",
       "Finance History         28\n",
       "Car                     20\n",
       "Number of Children     154\n",
       "dtype: int64"
      ]
     },
     "execution_count": 60,
     "metadata": {},
     "output_type": "execute_result"
    }
   ],
   "source": [
    "data.isna().sum()"
   ]
  },
  {
   "cell_type": "code",
   "execution_count": 61,
   "metadata": {},
   "outputs": [
    {
     "name": "stdout",
     "output_type": "stream",
     "text": [
      "Occupation-------2.00\n",
      "Monthly Income-------2.80\n",
      "Credit Score-------8.00\n",
      "Years of Employment-------8.60\n",
      "Finance Status-------4.60\n",
      "Finance History-------5.60\n",
      "Car-------4.00\n",
      "Number of Children-------30.80\n"
     ]
    }
   ],
   "source": [
    "for col in data.columns:\n",
    "    if data[col].isnull().any():\n",
    "        print(f\"{col}-------{(data[col].isnull().sum()/data.shape[0])*100:.2f}\")"
   ]
  },
  {
   "attachments": {},
   "cell_type": "markdown",
   "metadata": {},
   "source": [
    "##### handle it using statistic properties "
   ]
  },
  {
   "cell_type": "code",
   "execution_count": 62,
   "metadata": {},
   "outputs": [],
   "source": [
    "categorical_columns=[]\n",
    "numerical_columns=[]\n",
    "\n",
    "for col in data.columns:\n",
    "    if data[col].dtype==\"object\":\n",
    "        categorical_columns.append(col)\n",
    "    else:\n",
    "        numerical_columns.append(col)"
   ]
  },
  {
   "cell_type": "code",
   "execution_count": 63,
   "metadata": {},
   "outputs": [
    {
     "data": {
      "text/plain": [
       "['Monthly Income', 'Credit Score', 'Years of Employment', 'Number of Children']"
      ]
     },
     "execution_count": 63,
     "metadata": {},
     "output_type": "execute_result"
    }
   ],
   "source": [
    "numerical_columns"
   ]
  },
  {
   "cell_type": "code",
   "execution_count": 64,
   "metadata": {},
   "outputs": [],
   "source": [
    "X=data.drop('Car',axis=1)\n",
    "Y=data['Car']"
   ]
  },
  {
   "cell_type": "code",
   "execution_count": 65,
   "metadata": {},
   "outputs": [],
   "source": [
    "from sklearn.model_selection import train_test_split"
   ]
  },
  {
   "cell_type": "code",
   "execution_count": 66,
   "metadata": {},
   "outputs": [],
   "source": [
    "X_train, X_test, Y_train, Y_test = train_test_split(X, Y, test_size=0.2, random_state=0)"
   ]
  },
  {
   "cell_type": "code",
   "execution_count": 67,
   "metadata": {},
   "outputs": [],
   "source": [
    "qualitative_null_value_columns=[]\n",
    "quantitative_null_value_columns=[]\n",
    "for column in X_test.columns:\n",
    "    if data[column].isnull().any() and data[column].dtype != \"object\":\n",
    "        quantitative_null_value_columns.append(column)\n",
    "    else:\n",
    "        qualitative_null_value_columns.append(column)"
   ]
  },
  {
   "cell_type": "code",
   "execution_count": 68,
   "metadata": {},
   "outputs": [
    {
     "data": {
      "text/plain": [
       "['Occupation', 'Finance Status', 'Finance History']"
      ]
     },
     "execution_count": 68,
     "metadata": {},
     "output_type": "execute_result"
    }
   ],
   "source": [
    "qualitative_null_value_columns"
   ]
  },
  {
   "cell_type": "code",
   "execution_count": 69,
   "metadata": {},
   "outputs": [],
   "source": [
    "from sklearn.impute import SimpleImputer"
   ]
  },
  {
   "cell_type": "code",
   "execution_count": 70,
   "metadata": {},
   "outputs": [],
   "source": [
    "numeric_imputer=SimpleImputer(strategy='mean')"
   ]
  },
  {
   "cell_type": "code",
   "execution_count": 71,
   "metadata": {},
   "outputs": [],
   "source": [
    "X_train[quantitative_null_value_columns]=numeric_imputer.fit_transform(X_train[quantitative_null_value_columns])"
   ]
  },
  {
   "cell_type": "code",
   "execution_count": 72,
   "metadata": {},
   "outputs": [],
   "source": [
    "X_test[quantitative_null_value_columns]=numeric_imputer.transform(X_test[quantitative_null_value_columns])"
   ]
  },
  {
   "cell_type": "code",
   "execution_count": 73,
   "metadata": {},
   "outputs": [],
   "source": [
    "categorical_imputer=SimpleImputer(strategy=\"most_frequent\")"
   ]
  },
  {
   "cell_type": "code",
   "execution_count": 74,
   "metadata": {},
   "outputs": [],
   "source": [
    "X_train[qualitative_null_value_columns]=categorical_imputer.fit_transform(X_train[qualitative_null_value_columns])\n",
    "X_test[qualitative_null_value_columns]=categorical_imputer.transform(X_test[qualitative_null_value_columns])"
   ]
  },
  {
   "cell_type": "code",
   "execution_count": 75,
   "metadata": {},
   "outputs": [
    {
     "name": "stdout",
     "output_type": "stream",
     "text": [
      "<class 'pandas.core.frame.DataFrame'>\n",
      "Int64Index: 400 entries, 107 to 172\n",
      "Data columns (total 7 columns):\n",
      " #   Column               Non-Null Count  Dtype  \n",
      "---  ------               --------------  -----  \n",
      " 0   Occupation           400 non-null    object \n",
      " 1   Monthly Income       400 non-null    float64\n",
      " 2   Credit Score         400 non-null    float64\n",
      " 3   Years of Employment  400 non-null    float64\n",
      " 4   Finance Status       400 non-null    object \n",
      " 5   Finance History      400 non-null    object \n",
      " 6   Number of Children   400 non-null    float64\n",
      "dtypes: float64(4), object(3)\n",
      "memory usage: 25.0+ KB\n"
     ]
    }
   ],
   "source": [
    "X_train.info()"
   ]
  },
  {
   "cell_type": "code",
   "execution_count": 76,
   "metadata": {},
   "outputs": [],
   "source": [
    "X_train['Number of Children']=X_train['Number of Children'].astype(int)\n",
    "X_test['Number of Children']=X_test['Number of Children'].astype(int)"
   ]
  },
  {
   "cell_type": "code",
   "execution_count": 77,
   "metadata": {},
   "outputs": [],
   "source": [
    "Y_train=Y_train.to_frame()\n",
    "Y_test=Y_test.to_frame()"
   ]
  },
  {
   "attachments": {},
   "cell_type": "markdown",
   "metadata": {},
   "source": [
    "#### Encode the categorical variable"
   ]
  },
  {
   "cell_type": "code",
   "execution_count": 78,
   "metadata": {},
   "outputs": [
    {
     "data": {
      "text/plain": [
       "['Occupation', 'Finance Status', 'Finance History']"
      ]
     },
     "execution_count": 78,
     "metadata": {},
     "output_type": "execute_result"
    }
   ],
   "source": [
    "categorical_columns[0:3]"
   ]
  },
  {
   "cell_type": "code",
   "execution_count": 79,
   "metadata": {},
   "outputs": [],
   "source": [
    "from sklearn.preprocessing import OneHotEncoder\n",
    "from sklearn.compose import ColumnTransformer"
   ]
  },
  {
   "cell_type": "code",
   "execution_count": 80,
   "metadata": {},
   "outputs": [
    {
     "data": {
      "text/html": [
       "<div>\n",
       "<style scoped>\n",
       "    .dataframe tbody tr th:only-of-type {\n",
       "        vertical-align: middle;\n",
       "    }\n",
       "\n",
       "    .dataframe tbody tr th {\n",
       "        vertical-align: top;\n",
       "    }\n",
       "\n",
       "    .dataframe thead th {\n",
       "        text-align: right;\n",
       "    }\n",
       "</style>\n",
       "<table border=\"1\" class=\"dataframe\">\n",
       "  <thead>\n",
       "    <tr style=\"text-align: right;\">\n",
       "      <th></th>\n",
       "      <th>Occupation</th>\n",
       "      <th>Monthly Income</th>\n",
       "      <th>Credit Score</th>\n",
       "      <th>Years of Employment</th>\n",
       "      <th>Finance Status</th>\n",
       "      <th>Finance History</th>\n",
       "      <th>Number of Children</th>\n",
       "    </tr>\n",
       "  </thead>\n",
       "  <tbody>\n",
       "    <tr>\n",
       "      <th>107</th>\n",
       "      <td>Graphic Designer</td>\n",
       "      <td>3200.0</td>\n",
       "      <td>670.000000</td>\n",
       "      <td>3.0</td>\n",
       "      <td>Stable</td>\n",
       "      <td>No significant issues</td>\n",
       "      <td>0</td>\n",
       "    </tr>\n",
       "    <tr>\n",
       "      <th>336</th>\n",
       "      <td>Social Worker</td>\n",
       "      <td>3600.0</td>\n",
       "      <td>703.716621</td>\n",
       "      <td>2.0</td>\n",
       "      <td>Unstable</td>\n",
       "      <td>Missed payments in the past</td>\n",
       "      <td>3</td>\n",
       "    </tr>\n",
       "    <tr>\n",
       "      <th>71</th>\n",
       "      <td>Chef</td>\n",
       "      <td>2800.0</td>\n",
       "      <td>630.000000</td>\n",
       "      <td>1.0</td>\n",
       "      <td>Unstable</td>\n",
       "      <td>Missed payments in the past</td>\n",
       "      <td>1</td>\n",
       "    </tr>\n",
       "    <tr>\n",
       "      <th>474</th>\n",
       "      <td>Public Relations</td>\n",
       "      <td>5800.0</td>\n",
       "      <td>690.000000</td>\n",
       "      <td>4.0</td>\n",
       "      <td>Stable</td>\n",
       "      <td>No significant issues</td>\n",
       "      <td>0</td>\n",
       "    </tr>\n",
       "    <tr>\n",
       "      <th>6</th>\n",
       "      <td>Teacher</td>\n",
       "      <td>35000.0</td>\n",
       "      <td>700.000000</td>\n",
       "      <td>8.0</td>\n",
       "      <td>Fair</td>\n",
       "      <td>Late payment 3 months ago</td>\n",
       "      <td>1</td>\n",
       "    </tr>\n",
       "    <tr>\n",
       "      <th>...</th>\n",
       "      <td>...</td>\n",
       "      <td>...</td>\n",
       "      <td>...</td>\n",
       "      <td>...</td>\n",
       "      <td>...</td>\n",
       "      <td>...</td>\n",
       "      <td>...</td>\n",
       "    </tr>\n",
       "    <tr>\n",
       "      <th>323</th>\n",
       "      <td>Insurance Agent</td>\n",
       "      <td>4200.0</td>\n",
       "      <td>680.000000</td>\n",
       "      <td>3.0</td>\n",
       "      <td>Fair</td>\n",
       "      <td>No significant issues</td>\n",
       "      <td>1</td>\n",
       "    </tr>\n",
       "    <tr>\n",
       "      <th>192</th>\n",
       "      <td>Marketing Analyst</td>\n",
       "      <td>5000.0</td>\n",
       "      <td>730.000000</td>\n",
       "      <td>4.0</td>\n",
       "      <td>Stable</td>\n",
       "      <td>No significant issues</td>\n",
       "      <td>0</td>\n",
       "    </tr>\n",
       "    <tr>\n",
       "      <th>117</th>\n",
       "      <td>Optometrist</td>\n",
       "      <td>9000.0</td>\n",
       "      <td>820.000000</td>\n",
       "      <td>8.0</td>\n",
       "      <td>Stable</td>\n",
       "      <td>No significant issue</td>\n",
       "      <td>3</td>\n",
       "    </tr>\n",
       "    <tr>\n",
       "      <th>47</th>\n",
       "      <td>Web Developer</td>\n",
       "      <td>6000.0</td>\n",
       "      <td>730.000000</td>\n",
       "      <td>5.0</td>\n",
       "      <td>Stable</td>\n",
       "      <td>No significant issues</td>\n",
       "      <td>1</td>\n",
       "    </tr>\n",
       "    <tr>\n",
       "      <th>172</th>\n",
       "      <td>Electrician</td>\n",
       "      <td>3800.0</td>\n",
       "      <td>660.000000</td>\n",
       "      <td>3.0</td>\n",
       "      <td>Stable</td>\n",
       "      <td>No significant issues</td>\n",
       "      <td>2</td>\n",
       "    </tr>\n",
       "  </tbody>\n",
       "</table>\n",
       "<p>400 rows × 7 columns</p>\n",
       "</div>"
      ],
      "text/plain": [
       "            Occupation  Monthly Income  Credit Score  Years of Employment  \\\n",
       "107   Graphic Designer          3200.0    670.000000                  3.0   \n",
       "336      Social Worker          3600.0    703.716621                  2.0   \n",
       "71                Chef          2800.0    630.000000                  1.0   \n",
       "474   Public Relations          5800.0    690.000000                  4.0   \n",
       "6              Teacher         35000.0    700.000000                  8.0   \n",
       "..                 ...             ...           ...                  ...   \n",
       "323    Insurance Agent          4200.0    680.000000                  3.0   \n",
       "192  Marketing Analyst          5000.0    730.000000                  4.0   \n",
       "117        Optometrist          9000.0    820.000000                  8.0   \n",
       "47       Web Developer          6000.0    730.000000                  5.0   \n",
       "172        Electrician          3800.0    660.000000                  3.0   \n",
       "\n",
       "    Finance Status              Finance History  Number of Children  \n",
       "107         Stable        No significant issues                   0  \n",
       "336       Unstable  Missed payments in the past                   3  \n",
       "71        Unstable  Missed payments in the past                   1  \n",
       "474         Stable        No significant issues                   0  \n",
       "6             Fair    Late payment 3 months ago                   1  \n",
       "..             ...                          ...                 ...  \n",
       "323           Fair        No significant issues                   1  \n",
       "192         Stable        No significant issues                   0  \n",
       "117         Stable         No significant issue                   3  \n",
       "47          Stable        No significant issues                   1  \n",
       "172         Stable        No significant issues                   2  \n",
       "\n",
       "[400 rows x 7 columns]"
      ]
     },
     "execution_count": 80,
     "metadata": {},
     "output_type": "execute_result"
    }
   ],
   "source": [
    "X_train"
   ]
  },
  {
   "cell_type": "code",
   "execution_count": 81,
   "metadata": {},
   "outputs": [],
   "source": [
    "categorical_encoder=OneHotEncoder(handle_unknown=\"ignore\")"
   ]
  },
  {
   "cell_type": "code",
   "execution_count": 82,
   "metadata": {},
   "outputs": [],
   "source": [
    "column_transformer = ColumnTransformer(transformers=[('encoder', categorical_encoder , categorical_columns[0:3])], remainder='passthrough')"
   ]
  },
  {
   "cell_type": "code",
   "execution_count": 83,
   "metadata": {},
   "outputs": [
    {
     "data": {
      "text/html": [
       "<style>#sk-container-id-2 {color: black;background-color: white;}#sk-container-id-2 pre{padding: 0;}#sk-container-id-2 div.sk-toggleable {background-color: white;}#sk-container-id-2 label.sk-toggleable__label {cursor: pointer;display: block;width: 100%;margin-bottom: 0;padding: 0.3em;box-sizing: border-box;text-align: center;}#sk-container-id-2 label.sk-toggleable__label-arrow:before {content: \"▸\";float: left;margin-right: 0.25em;color: #696969;}#sk-container-id-2 label.sk-toggleable__label-arrow:hover:before {color: black;}#sk-container-id-2 div.sk-estimator:hover label.sk-toggleable__label-arrow:before {color: black;}#sk-container-id-2 div.sk-toggleable__content {max-height: 0;max-width: 0;overflow: hidden;text-align: left;background-color: #f0f8ff;}#sk-container-id-2 div.sk-toggleable__content pre {margin: 0.2em;color: black;border-radius: 0.25em;background-color: #f0f8ff;}#sk-container-id-2 input.sk-toggleable__control:checked~div.sk-toggleable__content {max-height: 200px;max-width: 100%;overflow: auto;}#sk-container-id-2 input.sk-toggleable__control:checked~label.sk-toggleable__label-arrow:before {content: \"▾\";}#sk-container-id-2 div.sk-estimator input.sk-toggleable__control:checked~label.sk-toggleable__label {background-color: #d4ebff;}#sk-container-id-2 div.sk-label input.sk-toggleable__control:checked~label.sk-toggleable__label {background-color: #d4ebff;}#sk-container-id-2 input.sk-hidden--visually {border: 0;clip: rect(1px 1px 1px 1px);clip: rect(1px, 1px, 1px, 1px);height: 1px;margin: -1px;overflow: hidden;padding: 0;position: absolute;width: 1px;}#sk-container-id-2 div.sk-estimator {font-family: monospace;background-color: #f0f8ff;border: 1px dotted black;border-radius: 0.25em;box-sizing: border-box;margin-bottom: 0.5em;}#sk-container-id-2 div.sk-estimator:hover {background-color: #d4ebff;}#sk-container-id-2 div.sk-parallel-item::after {content: \"\";width: 100%;border-bottom: 1px solid gray;flex-grow: 1;}#sk-container-id-2 div.sk-label:hover label.sk-toggleable__label {background-color: #d4ebff;}#sk-container-id-2 div.sk-serial::before {content: \"\";position: absolute;border-left: 1px solid gray;box-sizing: border-box;top: 0;bottom: 0;left: 50%;z-index: 0;}#sk-container-id-2 div.sk-serial {display: flex;flex-direction: column;align-items: center;background-color: white;padding-right: 0.2em;padding-left: 0.2em;position: relative;}#sk-container-id-2 div.sk-item {position: relative;z-index: 1;}#sk-container-id-2 div.sk-parallel {display: flex;align-items: stretch;justify-content: center;background-color: white;position: relative;}#sk-container-id-2 div.sk-item::before, #sk-container-id-2 div.sk-parallel-item::before {content: \"\";position: absolute;border-left: 1px solid gray;box-sizing: border-box;top: 0;bottom: 0;left: 50%;z-index: -1;}#sk-container-id-2 div.sk-parallel-item {display: flex;flex-direction: column;z-index: 1;position: relative;background-color: white;}#sk-container-id-2 div.sk-parallel-item:first-child::after {align-self: flex-end;width: 50%;}#sk-container-id-2 div.sk-parallel-item:last-child::after {align-self: flex-start;width: 50%;}#sk-container-id-2 div.sk-parallel-item:only-child::after {width: 0;}#sk-container-id-2 div.sk-dashed-wrapped {border: 1px dashed gray;margin: 0 0.4em 0.5em 0.4em;box-sizing: border-box;padding-bottom: 0.4em;background-color: white;}#sk-container-id-2 div.sk-label label {font-family: monospace;font-weight: bold;display: inline-block;line-height: 1.2em;}#sk-container-id-2 div.sk-label-container {text-align: center;}#sk-container-id-2 div.sk-container {/* jupyter's `normalize.less` sets `[hidden] { display: none; }` but bootstrap.min.css set `[hidden] { display: none !important; }` so we also need the `!important` here to be able to override the default hidden behavior on the sphinx rendered scikit-learn.org. See: https://github.com/scikit-learn/scikit-learn/issues/21755 */display: inline-block !important;position: relative;}#sk-container-id-2 div.sk-text-repr-fallback {display: none;}</style><div id=\"sk-container-id-2\" class=\"sk-top-container\"><div class=\"sk-text-repr-fallback\"><pre>ColumnTransformer(remainder=&#x27;passthrough&#x27;,\n",
       "                  transformers=[(&#x27;encoder&#x27;,\n",
       "                                 OneHotEncoder(handle_unknown=&#x27;ignore&#x27;),\n",
       "                                 [&#x27;Occupation&#x27;, &#x27;Finance Status&#x27;,\n",
       "                                  &#x27;Finance History&#x27;])])</pre><b>In a Jupyter environment, please rerun this cell to show the HTML representation or trust the notebook. <br />On GitHub, the HTML representation is unable to render, please try loading this page with nbviewer.org.</b></div><div class=\"sk-container\" hidden><div class=\"sk-item sk-dashed-wrapped\"><div class=\"sk-label-container\"><div class=\"sk-label sk-toggleable\"><input class=\"sk-toggleable__control sk-hidden--visually\" id=\"sk-estimator-id-6\" type=\"checkbox\" ><label for=\"sk-estimator-id-6\" class=\"sk-toggleable__label sk-toggleable__label-arrow\">ColumnTransformer</label><div class=\"sk-toggleable__content\"><pre>ColumnTransformer(remainder=&#x27;passthrough&#x27;,\n",
       "                  transformers=[(&#x27;encoder&#x27;,\n",
       "                                 OneHotEncoder(handle_unknown=&#x27;ignore&#x27;),\n",
       "                                 [&#x27;Occupation&#x27;, &#x27;Finance Status&#x27;,\n",
       "                                  &#x27;Finance History&#x27;])])</pre></div></div></div><div class=\"sk-parallel\"><div class=\"sk-parallel-item\"><div class=\"sk-item\"><div class=\"sk-label-container\"><div class=\"sk-label sk-toggleable\"><input class=\"sk-toggleable__control sk-hidden--visually\" id=\"sk-estimator-id-7\" type=\"checkbox\" ><label for=\"sk-estimator-id-7\" class=\"sk-toggleable__label sk-toggleable__label-arrow\">encoder</label><div class=\"sk-toggleable__content\"><pre>[&#x27;Occupation&#x27;, &#x27;Finance Status&#x27;, &#x27;Finance History&#x27;]</pre></div></div></div><div class=\"sk-serial\"><div class=\"sk-item\"><div class=\"sk-estimator sk-toggleable\"><input class=\"sk-toggleable__control sk-hidden--visually\" id=\"sk-estimator-id-8\" type=\"checkbox\" ><label for=\"sk-estimator-id-8\" class=\"sk-toggleable__label sk-toggleable__label-arrow\">OneHotEncoder</label><div class=\"sk-toggleable__content\"><pre>OneHotEncoder(handle_unknown=&#x27;ignore&#x27;)</pre></div></div></div></div></div></div><div class=\"sk-parallel-item\"><div class=\"sk-item\"><div class=\"sk-label-container\"><div class=\"sk-label sk-toggleable\"><input class=\"sk-toggleable__control sk-hidden--visually\" id=\"sk-estimator-id-9\" type=\"checkbox\" ><label for=\"sk-estimator-id-9\" class=\"sk-toggleable__label sk-toggleable__label-arrow\">remainder</label><div class=\"sk-toggleable__content\"><pre>[&#x27;Monthly Income&#x27;, &#x27;Credit Score&#x27;, &#x27;Years of Employment&#x27;, &#x27;Number of Children&#x27;]</pre></div></div></div><div class=\"sk-serial\"><div class=\"sk-item\"><div class=\"sk-estimator sk-toggleable\"><input class=\"sk-toggleable__control sk-hidden--visually\" id=\"sk-estimator-id-10\" type=\"checkbox\" ><label for=\"sk-estimator-id-10\" class=\"sk-toggleable__label sk-toggleable__label-arrow\">passthrough</label><div class=\"sk-toggleable__content\"><pre>passthrough</pre></div></div></div></div></div></div></div></div></div></div>"
      ],
      "text/plain": [
       "ColumnTransformer(remainder='passthrough',\n",
       "                  transformers=[('encoder',\n",
       "                                 OneHotEncoder(handle_unknown='ignore'),\n",
       "                                 ['Occupation', 'Finance Status',\n",
       "                                  'Finance History'])])"
      ]
     },
     "execution_count": 83,
     "metadata": {},
     "output_type": "execute_result"
    }
   ],
   "source": [
    "column_transformer.fit(X_train)"
   ]
  },
  {
   "cell_type": "code",
   "execution_count": 84,
   "metadata": {},
   "outputs": [],
   "source": [
    "X_train_encoded=column_transformer.transform(X_train).toarray()"
   ]
  },
  {
   "cell_type": "code",
   "execution_count": 85,
   "metadata": {},
   "outputs": [
    {
     "data": {
      "text/plain": [
       "(400, 137)"
      ]
     },
     "execution_count": 85,
     "metadata": {},
     "output_type": "execute_result"
    }
   ],
   "source": [
    "X_train_encoded.shape"
   ]
  },
  {
   "cell_type": "code",
   "execution_count": 86,
   "metadata": {},
   "outputs": [
    {
     "name": "stderr",
     "output_type": "stream",
     "text": [
      "c:\\Users\\Keerththanan\\MYPROGRAM\\lib\\site-packages\\sklearn\\utils\\deprecation.py:87: FutureWarning: Function get_feature_names is deprecated; get_feature_names is deprecated in 1.0 and will be removed in 1.2. Please use get_feature_names_out instead.\n",
      "  warnings.warn(msg, category=FutureWarning)\n"
     ]
    },
    {
     "data": {
      "text/plain": [
       "['encoder__x0_Account Executive',\n",
       " 'encoder__x0_Account Manager',\n",
       " 'encoder__x0_Accountant',\n",
       " 'encoder__x0_Architect',\n",
       " 'encoder__x0_Art Director',\n",
       " 'encoder__x0_Attorney',\n",
       " 'encoder__x0_Automotive Mechanic',\n",
       " 'encoder__x0_Bank Teller',\n",
       " 'encoder__x0_Barista',\n",
       " 'encoder__x0_Bartender',\n",
       " 'encoder__x0_Business Analyst',\n",
       " 'encoder__x0_Business Owner',\n",
       " 'encoder__x0_Businessman',\n",
       " 'encoder__x0_Carpenter',\n",
       " 'encoder__x0_Chef',\n",
       " 'encoder__x0_Civil Engineer',\n",
       " 'encoder__x0_Computer Programmer',\n",
       " 'encoder__x0_Construction Worker',\n",
       " 'encoder__x0_Copywriter',\n",
       " 'encoder__x0_Customer Service',\n",
       " 'encoder__x0_Customer Service Rep',\n",
       " 'encoder__x0_Customer Support',\n",
       " 'encoder__x0_Data Analyst',\n",
       " 'encoder__x0_Data Scientist',\n",
       " 'encoder__x0_Dental Assistant',\n",
       " 'encoder__x0_Dental Hygienist',\n",
       " 'encoder__x0_Dentist',\n",
       " 'encoder__x0_Designer',\n",
       " 'encoder__x0_Doctor',\n",
       " 'encoder__x0_Electrical Engineer',\n",
       " 'encoder__x0_Electrician',\n",
       " 'encoder__x0_Engineer',\n",
       " 'encoder__x0_Entrepreneur',\n",
       " 'encoder__x0_Event Planner',\n",
       " 'encoder__x0_Executive Assistant',\n",
       " 'encoder__x0_Fashion Designer',\n",
       " 'encoder__x0_Financial Advisor',\n",
       " 'encoder__x0_Financial Analyst',\n",
       " 'encoder__x0_Financial Manager',\n",
       " 'encoder__x0_Financial Planner',\n",
       " 'encoder__x0_Flight Attendant',\n",
       " 'encoder__x0_Graphic Artist',\n",
       " 'encoder__x0_Graphic Design',\n",
       " 'encoder__x0_Graphic Designer',\n",
       " 'encoder__x0_HR Generalist',\n",
       " 'encoder__x0_HR Manager',\n",
       " 'encoder__x0_HR Specialist',\n",
       " 'encoder__x0_Hair Stylist',\n",
       " 'encoder__x0_Hairdresser',\n",
       " 'encoder__x0_Human Resources',\n",
       " 'encoder__x0_Human Resources Manager',\n",
       " 'encoder__x0_IT Consultant',\n",
       " 'encoder__x0_IT Manager',\n",
       " 'encoder__x0_IT Support Specialist',\n",
       " 'encoder__x0_Insurance Agent',\n",
       " 'encoder__x0_Interior Designer',\n",
       " 'encoder__x0_Investment Banker',\n",
       " 'encoder__x0_Lawyer',\n",
       " 'encoder__x0_Librarian',\n",
       " 'encoder__x0_Marketing',\n",
       " 'encoder__x0_Marketing Analyst',\n",
       " 'encoder__x0_Marketing Coordinator',\n",
       " 'encoder__x0_Marketing Exec',\n",
       " 'encoder__x0_Marketing Manager',\n",
       " 'encoder__x0_Marketing Specialist',\n",
       " 'encoder__x0_Mechanic',\n",
       " 'encoder__x0_Mechanical Designer',\n",
       " 'encoder__x0_Mechanical Engineer',\n",
       " 'encoder__x0_Mechanical Technician',\n",
       " 'encoder__x0_Medical Assistant',\n",
       " 'encoder__x0_Musician',\n",
       " 'encoder__x0_Nurse',\n",
       " 'encoder__x0_Nurse Practitioner',\n",
       " 'encoder__x0_Office Manager',\n",
       " 'encoder__x0_Optometrist',\n",
       " 'encoder__x0_Personal Trainer',\n",
       " 'encoder__x0_Pharmacist',\n",
       " 'encoder__x0_Photographer',\n",
       " 'encoder__x0_Physical Education Teacher',\n",
       " 'encoder__x0_Physical Therapist',\n",
       " 'encoder__x0_Physical Therapist Assistant',\n",
       " 'encoder__x0_Physical Trainer',\n",
       " 'encoder__x0_Physician',\n",
       " 'encoder__x0_Physician Assistant',\n",
       " 'encoder__x0_Pilot',\n",
       " 'encoder__x0_Plumber',\n",
       " 'encoder__x0_Police Officer',\n",
       " 'encoder__x0_Project Manager',\n",
       " 'encoder__x0_Psychologist',\n",
       " 'encoder__x0_Public Relations',\n",
       " 'encoder__x0_Real Estate Ag',\n",
       " 'encoder__x0_Real Estate Agent',\n",
       " 'encoder__x0_Registered Nurse',\n",
       " 'encoder__x0_Retail Manager',\n",
       " 'encoder__x0_Sales Manager',\n",
       " 'encoder__x0_Sales Representative',\n",
       " 'encoder__x0_Salesperson',\n",
       " 'encoder__x0_Social Media Manager',\n",
       " 'encoder__x0_Social Worker',\n",
       " 'encoder__x0_Software Dev',\n",
       " 'encoder__x0_Software Developer',\n",
       " 'encoder__x0_Software Engineer',\n",
       " 'encoder__x0_Teacher',\n",
       " 'encoder__x0_Veterinarian',\n",
       " 'encoder__x0_Veterinarian Technician',\n",
       " 'encoder__x0_Waiter/Waitress',\n",
       " 'encoder__x0_Web Designer',\n",
       " 'encoder__x0_Web Developer',\n",
       " 'encoder__x0_Writer',\n",
       " 'encoder__x1_Excellent',\n",
       " 'encoder__x1_Fair',\n",
       " 'encoder__x1_Good',\n",
       " 'encoder__x1_Poor',\n",
       " 'encoder__x1_Stable',\n",
       " 'encoder__x1_Unknow',\n",
       " 'encoder__x1_Unkonw',\n",
       " 'encoder__x1_Unstable',\n",
       " 'encoder__x2_Excellent',\n",
       " 'encoder__x2_Fair',\n",
       " 'encoder__x2_Good',\n",
       " 'encoder__x2_Late payment',\n",
       " 'encoder__x2_Late payment 1 month ago',\n",
       " 'encoder__x2_Late payment 2 months ago',\n",
       " 'encoder__x2_Late payment 3 months ago',\n",
       " 'encoder__x2_Late payment 6 months ago',\n",
       " 'encoder__x2_Late payments',\n",
       " 'encoder__x2_Late payments, collections',\n",
       " 'encoder__x2_Missed payments in the past',\n",
       " 'encoder__x2_Missed payments, collections, charge-offs',\n",
       " 'encoder__x2_No issues',\n",
       " 'encoder__x2_No significant issue',\n",
       " 'encoder__x2_No significant issues',\n",
       " 'encoder__x2_Poor',\n",
       " 'Monthly Income',\n",
       " 'Credit Score',\n",
       " 'Years of Employment',\n",
       " 'Number of Children']"
      ]
     },
     "execution_count": 86,
     "metadata": {},
     "output_type": "execute_result"
    }
   ],
   "source": [
    "column_transformer.get_feature_names()"
   ]
  },
  {
   "cell_type": "code",
   "execution_count": 87,
   "metadata": {},
   "outputs": [],
   "source": [
    "X_test_encoded=column_transformer.transform(X_test).toarray()"
   ]
  },
  {
   "cell_type": "code",
   "execution_count": 88,
   "metadata": {},
   "outputs": [],
   "source": [
    "def ownLabelEncodder(x):\n",
    "    if x==\"Yes\":\n",
    "        return 1\n",
    "    else:\n",
    "        return 0"
   ]
  },
  {
   "cell_type": "code",
   "execution_count": 89,
   "metadata": {},
   "outputs": [
    {
     "data": {
      "text/html": [
       "<div>\n",
       "<style scoped>\n",
       "    .dataframe tbody tr th:only-of-type {\n",
       "        vertical-align: middle;\n",
       "    }\n",
       "\n",
       "    .dataframe tbody tr th {\n",
       "        vertical-align: top;\n",
       "    }\n",
       "\n",
       "    .dataframe thead th {\n",
       "        text-align: right;\n",
       "    }\n",
       "</style>\n",
       "<table border=\"1\" class=\"dataframe\">\n",
       "  <thead>\n",
       "    <tr style=\"text-align: right;\">\n",
       "      <th></th>\n",
       "      <th>Car</th>\n",
       "    </tr>\n",
       "  </thead>\n",
       "  <tbody>\n",
       "    <tr>\n",
       "      <th>90</th>\n",
       "      <td>Yes</td>\n",
       "    </tr>\n",
       "    <tr>\n",
       "      <th>254</th>\n",
       "      <td>Yes</td>\n",
       "    </tr>\n",
       "    <tr>\n",
       "      <th>283</th>\n",
       "      <td>No</td>\n",
       "    </tr>\n",
       "    <tr>\n",
       "      <th>445</th>\n",
       "      <td>Yes</td>\n",
       "    </tr>\n",
       "    <tr>\n",
       "      <th>461</th>\n",
       "      <td>No</td>\n",
       "    </tr>\n",
       "    <tr>\n",
       "      <th>...</th>\n",
       "      <td>...</td>\n",
       "    </tr>\n",
       "    <tr>\n",
       "      <th>372</th>\n",
       "      <td>Yes</td>\n",
       "    </tr>\n",
       "    <tr>\n",
       "      <th>56</th>\n",
       "      <td>No</td>\n",
       "    </tr>\n",
       "    <tr>\n",
       "      <th>440</th>\n",
       "      <td>Yes</td>\n",
       "    </tr>\n",
       "    <tr>\n",
       "      <th>60</th>\n",
       "      <td>Yes</td>\n",
       "    </tr>\n",
       "    <tr>\n",
       "      <th>208</th>\n",
       "      <td>No</td>\n",
       "    </tr>\n",
       "  </tbody>\n",
       "</table>\n",
       "<p>100 rows × 1 columns</p>\n",
       "</div>"
      ],
      "text/plain": [
       "     Car\n",
       "90   Yes\n",
       "254  Yes\n",
       "283   No\n",
       "445  Yes\n",
       "461   No\n",
       "..   ...\n",
       "372  Yes\n",
       "56    No\n",
       "440  Yes\n",
       "60   Yes\n",
       "208   No\n",
       "\n",
       "[100 rows x 1 columns]"
      ]
     },
     "execution_count": 89,
     "metadata": {},
     "output_type": "execute_result"
    }
   ],
   "source": [
    "Y_test"
   ]
  },
  {
   "cell_type": "code",
   "execution_count": 90,
   "metadata": {},
   "outputs": [],
   "source": [
    "Y_train=Y_train['Car'].apply(ownLabelEncodder)\n",
    "Y_test=Y_test['Car'].apply(ownLabelEncodder)"
   ]
  },
  {
   "cell_type": "code",
   "execution_count": 92,
   "metadata": {},
   "outputs": [],
   "source": [
    "from sklearn.linear_model import LogisticRegression"
   ]
  },
  {
   "cell_type": "code",
   "execution_count": 93,
   "metadata": {},
   "outputs": [],
   "source": [
    "model=LogisticRegression()"
   ]
  },
  {
   "cell_type": "code",
   "execution_count": 95,
   "metadata": {},
   "outputs": [
    {
     "data": {
      "text/html": [
       "<style>#sk-container-id-3 {color: black;background-color: white;}#sk-container-id-3 pre{padding: 0;}#sk-container-id-3 div.sk-toggleable {background-color: white;}#sk-container-id-3 label.sk-toggleable__label {cursor: pointer;display: block;width: 100%;margin-bottom: 0;padding: 0.3em;box-sizing: border-box;text-align: center;}#sk-container-id-3 label.sk-toggleable__label-arrow:before {content: \"▸\";float: left;margin-right: 0.25em;color: #696969;}#sk-container-id-3 label.sk-toggleable__label-arrow:hover:before {color: black;}#sk-container-id-3 div.sk-estimator:hover label.sk-toggleable__label-arrow:before {color: black;}#sk-container-id-3 div.sk-toggleable__content {max-height: 0;max-width: 0;overflow: hidden;text-align: left;background-color: #f0f8ff;}#sk-container-id-3 div.sk-toggleable__content pre {margin: 0.2em;color: black;border-radius: 0.25em;background-color: #f0f8ff;}#sk-container-id-3 input.sk-toggleable__control:checked~div.sk-toggleable__content {max-height: 200px;max-width: 100%;overflow: auto;}#sk-container-id-3 input.sk-toggleable__control:checked~label.sk-toggleable__label-arrow:before {content: \"▾\";}#sk-container-id-3 div.sk-estimator input.sk-toggleable__control:checked~label.sk-toggleable__label {background-color: #d4ebff;}#sk-container-id-3 div.sk-label input.sk-toggleable__control:checked~label.sk-toggleable__label {background-color: #d4ebff;}#sk-container-id-3 input.sk-hidden--visually {border: 0;clip: rect(1px 1px 1px 1px);clip: rect(1px, 1px, 1px, 1px);height: 1px;margin: -1px;overflow: hidden;padding: 0;position: absolute;width: 1px;}#sk-container-id-3 div.sk-estimator {font-family: monospace;background-color: #f0f8ff;border: 1px dotted black;border-radius: 0.25em;box-sizing: border-box;margin-bottom: 0.5em;}#sk-container-id-3 div.sk-estimator:hover {background-color: #d4ebff;}#sk-container-id-3 div.sk-parallel-item::after {content: \"\";width: 100%;border-bottom: 1px solid gray;flex-grow: 1;}#sk-container-id-3 div.sk-label:hover label.sk-toggleable__label {background-color: #d4ebff;}#sk-container-id-3 div.sk-serial::before {content: \"\";position: absolute;border-left: 1px solid gray;box-sizing: border-box;top: 0;bottom: 0;left: 50%;z-index: 0;}#sk-container-id-3 div.sk-serial {display: flex;flex-direction: column;align-items: center;background-color: white;padding-right: 0.2em;padding-left: 0.2em;position: relative;}#sk-container-id-3 div.sk-item {position: relative;z-index: 1;}#sk-container-id-3 div.sk-parallel {display: flex;align-items: stretch;justify-content: center;background-color: white;position: relative;}#sk-container-id-3 div.sk-item::before, #sk-container-id-3 div.sk-parallel-item::before {content: \"\";position: absolute;border-left: 1px solid gray;box-sizing: border-box;top: 0;bottom: 0;left: 50%;z-index: -1;}#sk-container-id-3 div.sk-parallel-item {display: flex;flex-direction: column;z-index: 1;position: relative;background-color: white;}#sk-container-id-3 div.sk-parallel-item:first-child::after {align-self: flex-end;width: 50%;}#sk-container-id-3 div.sk-parallel-item:last-child::after {align-self: flex-start;width: 50%;}#sk-container-id-3 div.sk-parallel-item:only-child::after {width: 0;}#sk-container-id-3 div.sk-dashed-wrapped {border: 1px dashed gray;margin: 0 0.4em 0.5em 0.4em;box-sizing: border-box;padding-bottom: 0.4em;background-color: white;}#sk-container-id-3 div.sk-label label {font-family: monospace;font-weight: bold;display: inline-block;line-height: 1.2em;}#sk-container-id-3 div.sk-label-container {text-align: center;}#sk-container-id-3 div.sk-container {/* jupyter's `normalize.less` sets `[hidden] { display: none; }` but bootstrap.min.css set `[hidden] { display: none !important; }` so we also need the `!important` here to be able to override the default hidden behavior on the sphinx rendered scikit-learn.org. See: https://github.com/scikit-learn/scikit-learn/issues/21755 */display: inline-block !important;position: relative;}#sk-container-id-3 div.sk-text-repr-fallback {display: none;}</style><div id=\"sk-container-id-3\" class=\"sk-top-container\"><div class=\"sk-text-repr-fallback\"><pre>LogisticRegression()</pre><b>In a Jupyter environment, please rerun this cell to show the HTML representation or trust the notebook. <br />On GitHub, the HTML representation is unable to render, please try loading this page with nbviewer.org.</b></div><div class=\"sk-container\" hidden><div class=\"sk-item\"><div class=\"sk-estimator sk-toggleable\"><input class=\"sk-toggleable__control sk-hidden--visually\" id=\"sk-estimator-id-11\" type=\"checkbox\" checked><label for=\"sk-estimator-id-11\" class=\"sk-toggleable__label sk-toggleable__label-arrow\">LogisticRegression</label><div class=\"sk-toggleable__content\"><pre>LogisticRegression()</pre></div></div></div></div></div>"
      ],
      "text/plain": [
       "LogisticRegression()"
      ]
     },
     "execution_count": 95,
     "metadata": {},
     "output_type": "execute_result"
    }
   ],
   "source": [
    "model.fit(X_train_encoded,Y_train)"
   ]
  },
  {
   "cell_type": "code",
   "execution_count": 100,
   "metadata": {},
   "outputs": [],
   "source": [
    "predicted_value=model.predict(X_test_encoded)"
   ]
  },
  {
   "cell_type": "code",
   "execution_count": 104,
   "metadata": {},
   "outputs": [
    {
     "data": {
      "text/plain": [
       "array([1, 1, 0, 1, 0, 1, 0, 1, 1, 1, 1, 1, 1, 1, 1, 1, 1, 0, 1, 0, 0, 1,\n",
       "       1, 1, 1, 1, 1, 0, 0, 1, 1, 0, 1, 1, 1, 1, 0, 1, 0, 1, 1, 0, 1, 1,\n",
       "       0, 1, 1, 0, 1, 0, 1, 1, 0, 0, 1, 0, 1, 1, 1, 1, 1, 1, 0, 0, 1, 1,\n",
       "       1, 1, 0, 0, 1, 0, 1, 1, 0, 1, 1, 1, 0, 1, 1, 1, 1, 1, 0, 1, 0, 0,\n",
       "       1, 0, 1, 1, 0, 1, 0, 1, 0, 1, 1, 0], dtype=int64)"
      ]
     },
     "execution_count": 104,
     "metadata": {},
     "output_type": "execute_result"
    }
   ],
   "source": [
    "predicted_value"
   ]
  },
  {
   "cell_type": "code",
   "execution_count": 96,
   "metadata": {},
   "outputs": [],
   "source": [
    "from sklearn.metrics import accuracy_score,confusion_matrix"
   ]
  },
  {
   "cell_type": "code",
   "execution_count": 101,
   "metadata": {},
   "outputs": [
    {
     "data": {
      "text/plain": [
       "0.8"
      ]
     },
     "execution_count": 101,
     "metadata": {},
     "output_type": "execute_result"
    }
   ],
   "source": [
    "accuracy_score(Y_test,predicted_value)"
   ]
  },
  {
   "cell_type": "code",
   "execution_count": 102,
   "metadata": {},
   "outputs": [
    {
     "data": {
      "text/plain": [
       "array([[26, 13],\n",
       "       [ 7, 54]], dtype=int64)"
      ]
     },
     "execution_count": 102,
     "metadata": {},
     "output_type": "execute_result"
    }
   ],
   "source": [
    "confusion_matrix(Y_test,predicted_value)"
   ]
  },
  {
   "cell_type": "code",
   "execution_count": 107,
   "metadata": {},
   "outputs": [
    {
     "data": {
      "text/plain": [
       "array([[8.74761372e-03, 9.91252386e-01],\n",
       "       [4.72481596e-02, 9.52751840e-01],\n",
       "       [9.14299348e-01, 8.57006523e-02],\n",
       "       [4.10418876e-02, 9.58958112e-01],\n",
       "       [6.42911020e-01, 3.57088980e-01],\n",
       "       [4.21751353e-04, 9.99578249e-01],\n",
       "       [9.39601998e-01, 6.03980019e-02],\n",
       "       [3.19469001e-01, 6.80530999e-01],\n",
       "       [4.07061973e-02, 9.59293803e-01],\n",
       "       [5.39465217e-02, 9.46053478e-01],\n",
       "       [1.38030755e-01, 8.61969245e-01],\n",
       "       [2.65386918e-01, 7.34613082e-01],\n",
       "       [2.88045176e-01, 7.11954824e-01],\n",
       "       [5.80623286e-02, 9.41937671e-01],\n",
       "       [1.39761447e-02, 9.86023855e-01],\n",
       "       [3.57722684e-01, 6.42277316e-01],\n",
       "       [1.08267179e-02, 9.89173282e-01],\n",
       "       [6.32184574e-01, 3.67815426e-01],\n",
       "       [3.19868236e-01, 6.80131764e-01],\n",
       "       [9.08276587e-01, 9.17234131e-02],\n",
       "       [9.79946970e-01, 2.00530300e-02],\n",
       "       [1.12002693e-01, 8.87997307e-01],\n",
       "       [2.16619111e-01, 7.83380889e-01],\n",
       "       [5.20398237e-02, 9.47960176e-01],\n",
       "       [3.19130973e-01, 6.80869027e-01],\n",
       "       [1.24458878e-02, 9.87554112e-01],\n",
       "       [3.31949117e-03, 9.96680509e-01],\n",
       "       [8.94949352e-01, 1.05050648e-01],\n",
       "       [6.07765262e-01, 3.92234738e-01],\n",
       "       [2.14369282e-01, 7.85630718e-01],\n",
       "       [3.16395898e-03, 9.96836041e-01],\n",
       "       [5.93442608e-01, 4.06557392e-01],\n",
       "       [1.57767675e-01, 8.42232325e-01],\n",
       "       [2.84888216e-01, 7.15111784e-01],\n",
       "       [7.21207151e-02, 9.27879285e-01],\n",
       "       [9.79147203e-03, 9.90208528e-01],\n",
       "       [9.39121977e-01, 6.08780228e-02],\n",
       "       [2.56859434e-01, 7.43140566e-01],\n",
       "       [9.88826264e-01, 1.11737359e-02],\n",
       "       [1.20705873e-01, 8.79294127e-01],\n",
       "       [4.13077579e-01, 5.86922421e-01],\n",
       "       [9.78249668e-01, 2.17503321e-02],\n",
       "       [2.69822953e-01, 7.30177047e-01],\n",
       "       [3.05347859e-01, 6.94652141e-01],\n",
       "       [9.79013659e-01, 2.09863413e-02],\n",
       "       [2.37139591e-01, 7.62860409e-01],\n",
       "       [5.57139536e-02, 9.44286046e-01],\n",
       "       [9.75357763e-01, 2.46422369e-02],\n",
       "       [2.71233866e-01, 7.28766134e-01],\n",
       "       [9.83495301e-01, 1.65046994e-02],\n",
       "       [9.29121511e-02, 9.07087849e-01],\n",
       "       [3.14046198e-01, 6.85953802e-01],\n",
       "       [9.69504934e-01, 3.04950658e-02],\n",
       "       [9.53133890e-01, 4.68661096e-02],\n",
       "       [3.63125016e-01, 6.36874984e-01],\n",
       "       [9.72346581e-01, 2.76534189e-02],\n",
       "       [2.70976727e-02, 9.72902327e-01],\n",
       "       [5.38887537e-03, 9.94611125e-01],\n",
       "       [2.40619779e-01, 7.59380221e-01],\n",
       "       [5.00749075e-03, 9.94992509e-01],\n",
       "       [8.52913843e-02, 9.14708616e-01],\n",
       "       [5.07478363e-05, 9.99949252e-01],\n",
       "       [8.94949352e-01, 1.05050648e-01],\n",
       "       [7.13322513e-01, 2.86677487e-01],\n",
       "       [3.40339513e-01, 6.59660487e-01],\n",
       "       [2.46918668e-01, 7.53081332e-01],\n",
       "       [2.46918668e-01, 7.53081332e-01],\n",
       "       [3.16534598e-01, 6.83465402e-01],\n",
       "       [8.06610831e-01, 1.93389169e-01],\n",
       "       [6.50727693e-01, 3.49272307e-01],\n",
       "       [3.19642838e-02, 9.68035716e-01],\n",
       "       [9.75357763e-01, 2.46422369e-02],\n",
       "       [1.73546181e-03, 9.98264538e-01],\n",
       "       [3.20619441e-01, 6.79380559e-01],\n",
       "       [9.73451208e-01, 2.65487918e-02],\n",
       "       [1.08022975e-01, 8.91977025e-01],\n",
       "       [1.01540499e-04, 9.99898460e-01],\n",
       "       [3.28859849e-02, 9.67114015e-01],\n",
       "       [6.08298685e-01, 3.91701315e-01],\n",
       "       [2.73948958e-01, 7.26051042e-01],\n",
       "       [5.61517078e-02, 9.43848292e-01],\n",
       "       [1.81639029e-01, 8.18360971e-01],\n",
       "       [1.46292716e-01, 8.53707284e-01],\n",
       "       [1.11542061e-01, 8.88457939e-01],\n",
       "       [6.04426858e-01, 3.95573142e-01],\n",
       "       [7.46620662e-02, 9.25337934e-01],\n",
       "       [8.12266583e-01, 1.87733417e-01],\n",
       "       [9.76766201e-01, 2.32337992e-02],\n",
       "       [3.01931540e-02, 9.69806846e-01],\n",
       "       [9.52623781e-01, 4.73762189e-02],\n",
       "       [3.72624052e-02, 9.62737595e-01],\n",
       "       [1.12608984e-01, 8.87391016e-01],\n",
       "       [9.31801942e-01, 6.81980582e-02],\n",
       "       [4.00123919e-01, 5.99876081e-01],\n",
       "       [9.14054701e-01, 8.59452987e-02],\n",
       "       [3.65363339e-02, 9.63463666e-01],\n",
       "       [9.39601998e-01, 6.03980019e-02],\n",
       "       [4.68517299e-02, 9.53148270e-01],\n",
       "       [1.92868880e-02, 9.80713112e-01],\n",
       "       [6.01179714e-01, 3.98820286e-01]])"
      ]
     },
     "execution_count": 107,
     "metadata": {},
     "output_type": "execute_result"
    }
   ],
   "source": [
    "model.predict_proba(X_test_encoded)"
   ]
  },
  {
   "cell_type": "code",
   "execution_count": 109,
   "metadata": {},
   "outputs": [
    {
     "data": {
      "text/plain": [
       "0.76"
      ]
     },
     "execution_count": 109,
     "metadata": {},
     "output_type": "execute_result"
    }
   ],
   "source": [
    "from sklearn.svm import SVC\n",
    "accuracy_score(Y_test,SVC().fit(X_train_encoded,Y_train).predict(X_test_encoded))"
   ]
  },
  {
   "attachments": {},
   "cell_type": "markdown",
   "metadata": {},
   "source": []
  }
 ],
 "metadata": {
  "kernelspec": {
   "display_name": "Python 3",
   "language": "python",
   "name": "python3"
  },
  "language_info": {
   "codemirror_mode": {
    "name": "ipython",
    "version": 3
   },
   "file_extension": ".py",
   "mimetype": "text/x-python",
   "name": "python",
   "nbconvert_exporter": "python",
   "pygments_lexer": "ipython3",
   "version": "3.10.6"
  },
  "orig_nbformat": 4
 },
 "nbformat": 4,
 "nbformat_minor": 2
}
