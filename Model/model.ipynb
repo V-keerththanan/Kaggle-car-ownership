{
 "cells": [
  {
   "cell_type": "code",
   "execution_count": 1,
   "metadata": {},
   "outputs": [],
   "source": [
    "import pandas as pd\n",
    "import numpy as np\n",
    "import matplotlib.pyplot as plt"
   ]
  },
  {
   "attachments": {},
   "cell_type": "markdown",
   "metadata": {},
   "source": [
    "#### EDA & Feature Engineering"
   ]
  },
  {
   "cell_type": "code",
   "execution_count": 4,
   "metadata": {},
   "outputs": [],
   "source": [
    "data=pd.read_csv(\"../Data/Car Ownership.csv\")"
   ]
  },
  {
   "cell_type": "code",
   "execution_count": 5,
   "metadata": {},
   "outputs": [
    {
     "data": {
      "text/html": [
       "<div>\n",
       "<style scoped>\n",
       "    .dataframe tbody tr th:only-of-type {\n",
       "        vertical-align: middle;\n",
       "    }\n",
       "\n",
       "    .dataframe tbody tr th {\n",
       "        vertical-align: top;\n",
       "    }\n",
       "\n",
       "    .dataframe thead th {\n",
       "        text-align: right;\n",
       "    }\n",
       "</style>\n",
       "<table border=\"1\" class=\"dataframe\">\n",
       "  <thead>\n",
       "    <tr style=\"text-align: right;\">\n",
       "      <th></th>\n",
       "      <th>Occupation</th>\n",
       "      <th>Monthly Income</th>\n",
       "      <th>Credit Score</th>\n",
       "      <th>Years of Employment</th>\n",
       "      <th>Finance Status</th>\n",
       "      <th>Finance History</th>\n",
       "      <th>Car</th>\n",
       "      <th>Number of Children</th>\n",
       "    </tr>\n",
       "  </thead>\n",
       "  <tbody>\n",
       "    <tr>\n",
       "      <th>0</th>\n",
       "      <td>Teacher</td>\n",
       "      <td>40000</td>\n",
       "      <td>750.0</td>\n",
       "      <td>10</td>\n",
       "      <td>Good</td>\n",
       "      <td>No issues</td>\n",
       "      <td>Yes</td>\n",
       "      <td>2</td>\n",
       "    </tr>\n",
       "    <tr>\n",
       "      <th>1</th>\n",
       "      <td>Engineer</td>\n",
       "      <td>60000</td>\n",
       "      <td>800.0</td>\n",
       "      <td>8</td>\n",
       "      <td>Good</td>\n",
       "      <td>No issues</td>\n",
       "      <td>Yes</td>\n",
       "      <td>1</td>\n",
       "    </tr>\n",
       "    <tr>\n",
       "      <th>2</th>\n",
       "      <td>Nurse</td>\n",
       "      <td>25000</td>\n",
       "      <td>650.0</td>\n",
       "      <td>5</td>\n",
       "      <td>Fair</td>\n",
       "      <td>Late payment 2 months ago</td>\n",
       "      <td>No</td>\n",
       "      <td>0</td>\n",
       "    </tr>\n",
       "    <tr>\n",
       "      <th>3</th>\n",
       "      <td>Doctor</td>\n",
       "      <td>80000</td>\n",
       "      <td>900.0</td>\n",
       "      <td>12</td>\n",
       "      <td>Excellent</td>\n",
       "      <td>No issues</td>\n",
       "      <td>Yes</td>\n",
       "      <td>3</td>\n",
       "    </tr>\n",
       "    <tr>\n",
       "      <th>4</th>\n",
       "      <td>Businessman</td>\n",
       "      <td>100000</td>\n",
       "      <td>700.0</td>\n",
       "      <td>15</td>\n",
       "      <td>Good</td>\n",
       "      <td>Late payment 6 months ago</td>\n",
       "      <td>Yes</td>\n",
       "      <td>2</td>\n",
       "    </tr>\n",
       "  </tbody>\n",
       "</table>\n",
       "</div>"
      ],
      "text/plain": [
       "    Occupation Monthly Income  Credit Score Years of Employment  \\\n",
       "0      Teacher          40000         750.0                  10   \n",
       "1     Engineer          60000         800.0                   8   \n",
       "2        Nurse          25000         650.0                   5   \n",
       "3       Doctor          80000         900.0                  12   \n",
       "4  Businessman         100000         700.0                  15   \n",
       "\n",
       "  Finance Status            Finance History  Car Number of Children  \n",
       "0           Good                  No issues  Yes                  2  \n",
       "1           Good                  No issues  Yes                  1  \n",
       "2           Fair  Late payment 2 months ago   No                  0  \n",
       "3      Excellent                  No issues  Yes                  3  \n",
       "4           Good  Late payment 6 months ago  Yes                  2  "
      ]
     },
     "execution_count": 5,
     "metadata": {},
     "output_type": "execute_result"
    }
   ],
   "source": [
    "data.head()"
   ]
  },
  {
   "cell_type": "code",
   "execution_count": 6,
   "metadata": {},
   "outputs": [
    {
     "name": "stdout",
     "output_type": "stream",
     "text": [
      "<class 'pandas.core.frame.DataFrame'>\n",
      "RangeIndex: 500 entries, 0 to 499\n",
      "Data columns (total 8 columns):\n",
      " #   Column               Non-Null Count  Dtype  \n",
      "---  ------               --------------  -----  \n",
      " 0   Occupation           490 non-null    object \n",
      " 1   Monthly Income       487 non-null    object \n",
      " 2   Credit Score         460 non-null    float64\n",
      " 3   Years of Employment  457 non-null    object \n",
      " 4   Finance Status       477 non-null    object \n",
      " 5   Finance History      472 non-null    object \n",
      " 6   Car                  480 non-null    object \n",
      " 7   Number of Children   375 non-null    object \n",
      "dtypes: float64(1), object(7)\n",
      "memory usage: 31.4+ KB\n"
     ]
    }
   ],
   "source": [
    "data.info()"
   ]
  },
  {
   "cell_type": "code",
   "execution_count": 7,
   "metadata": {},
   "outputs": [
    {
     "data": {
      "text/html": [
       "<div>\n",
       "<style scoped>\n",
       "    .dataframe tbody tr th:only-of-type {\n",
       "        vertical-align: middle;\n",
       "    }\n",
       "\n",
       "    .dataframe tbody tr th {\n",
       "        vertical-align: top;\n",
       "    }\n",
       "\n",
       "    .dataframe thead th {\n",
       "        text-align: right;\n",
       "    }\n",
       "</style>\n",
       "<table border=\"1\" class=\"dataframe\">\n",
       "  <thead>\n",
       "    <tr style=\"text-align: right;\">\n",
       "      <th></th>\n",
       "      <th>Credit Score</th>\n",
       "    </tr>\n",
       "  </thead>\n",
       "  <tbody>\n",
       "    <tr>\n",
       "      <th>count</th>\n",
       "      <td>460.000000</td>\n",
       "    </tr>\n",
       "    <tr>\n",
       "      <th>mean</th>\n",
       "      <td>702.969565</td>\n",
       "    </tr>\n",
       "    <tr>\n",
       "      <th>std</th>\n",
       "      <td>69.232323</td>\n",
       "    </tr>\n",
       "    <tr>\n",
       "      <th>min</th>\n",
       "      <td>500.000000</td>\n",
       "    </tr>\n",
       "    <tr>\n",
       "      <th>25%</th>\n",
       "      <td>650.000000</td>\n",
       "    </tr>\n",
       "    <tr>\n",
       "      <th>50%</th>\n",
       "      <td>700.000000</td>\n",
       "    </tr>\n",
       "    <tr>\n",
       "      <th>75%</th>\n",
       "      <td>750.000000</td>\n",
       "    </tr>\n",
       "    <tr>\n",
       "      <th>max</th>\n",
       "      <td>900.000000</td>\n",
       "    </tr>\n",
       "  </tbody>\n",
       "</table>\n",
       "</div>"
      ],
      "text/plain": [
       "       Credit Score\n",
       "count    460.000000\n",
       "mean     702.969565\n",
       "std       69.232323\n",
       "min      500.000000\n",
       "25%      650.000000\n",
       "50%      700.000000\n",
       "75%      750.000000\n",
       "max      900.000000"
      ]
     },
     "execution_count": 7,
     "metadata": {},
     "output_type": "execute_result"
    }
   ],
   "source": [
    "data.describe()"
   ]
  },
  {
   "cell_type": "code",
   "execution_count": 8,
   "metadata": {},
   "outputs": [
    {
     "data": {
      "text/plain": [
       "Yes    301\n",
       "No     179\n",
       "Name: Car, dtype: int64"
      ]
     },
     "execution_count": 8,
     "metadata": {},
     "output_type": "execute_result"
    }
   ],
   "source": [
    "data['Car'].value_counts()"
   ]
  },
  {
   "cell_type": "code",
   "execution_count": 9,
   "metadata": {},
   "outputs": [
    {
     "name": "stdout",
     "output_type": "stream",
     "text": [
      "--------------Occupation--------------\n",
      "Chef                         34\n",
      "Electrician                  19\n",
      "Graphic Designer             17\n",
      "Nurse                        16\n",
      "Architect                    13\n",
      "                             ..\n",
      "Retail Salesperson            1\n",
      "Bartender                     1\n",
      "Librarian                     1\n",
      "Elementary School Teacher     1\n",
      "Customer Support              1\n",
      "Name: Occupation, Length: 116, dtype: int64\n",
      "\n",
      "\n",
      "--------------Monthly Income--------------\n",
      "$4,500       33\n",
      "$3,500       27\n",
      "$3,200       20\n",
      "$4,200       18\n",
      "$3,000       18\n",
      "             ..\n",
      "10000 USD     1\n",
      "3500 USD      1\n",
      "2.5k          1\n",
      "6000 usd      1\n",
      "$7            1\n",
      "Name: Monthly Income, Length: 98, dtype: int64\n",
      "\n",
      "\n",
      "--------------Credit Score--------------\n",
      "670.0    32\n",
      "680.0    31\n",
      "720.0    29\n",
      "650.0    27\n",
      "690.0    22\n",
      "         ..\n",
      "830.0     1\n",
      "770.0     1\n",
      "890.0     1\n",
      "840.0     1\n",
      "641.0     1\n",
      "Name: Credit Score, Length: 64, dtype: int64\n",
      "\n",
      "\n",
      "--------------Years of Employment--------------\n",
      "4 years     74\n",
      "3 years     58\n",
      "2 years     54\n",
      "5 years     53\n",
      "6 years     49\n",
      "1 year      39\n",
      "7 years     31\n",
      "8 years     13\n",
      "3            9\n",
      "10           8\n",
      "1            7\n",
      "8            7\n",
      "9 years      6\n",
      "5            6\n",
      "2            5\n",
      "4            4\n",
      "6            4\n",
      "10 years     4\n",
      "12           4\n",
      "7            3\n",
      "7 y          2\n",
      "2 year       2\n",
      "2 y          2\n",
      "15           2\n",
      "20           2\n",
      "3 year       1\n",
      "6 year       1\n",
      "12 years     1\n",
      "3 y          1\n",
      "11 years     1\n",
      "7 year       1\n",
      "8 year       1\n",
      "4 year       1\n",
      "5 year       1\n",
      "Name: Years of Employment, dtype: int64\n",
      "\n",
      "\n",
      "--------------Finance Status--------------\n",
      "Stable       304\n",
      "Unstable      87\n",
      "Fair          28\n",
      "Good          26\n",
      "Excellent     22\n",
      "Poor           8\n",
      "Unknow         1\n",
      "Unkonw         1\n",
      "Name: Finance Status, dtype: int64\n",
      "\n",
      "\n",
      "--------------Finance History--------------\n",
      "No significant issues                        313\n",
      "Missed payments in the past                   52\n",
      "Late payments                                 31\n",
      "Late payments, collections                    17\n",
      "No issues                                     12\n",
      "Poor                                          12\n",
      "Excellent                                     10\n",
      "Good                                           8\n",
      "Fair                                           6\n",
      "Late payment 2 months ago                      2\n",
      "Late payment 6 months ago                      2\n",
      "Late payment 3 months ago                      2\n",
      "Late payment 1 month ago                       2\n",
      "Late payment                                   1\n",
      "No significant issue                           1\n",
      "Missed payments, collections, charge-offs      1\n",
      "Name: Finance History, dtype: int64\n",
      "\n",
      "\n",
      "--------------Car--------------\n",
      "Yes    301\n",
      "No     179\n",
      "Name: Car, dtype: int64\n",
      "\n",
      "\n",
      "--------------Number of Children--------------\n",
      "0     120\n",
      "1     112\n",
      "2      95\n",
      "na     29\n",
      "3      18\n",
      "4       1\n",
      "Name: Number of Children, dtype: int64\n",
      "\n",
      "\n"
     ]
    }
   ],
   "source": [
    "for col in data.columns:\n",
    "    print(f\"--------------{col}--------------\")\n",
    "    print(data[col].value_counts())\n",
    "    print(\"\\n\")"
   ]
  },
  {
   "attachments": {},
   "cell_type": "markdown",
   "metadata": {},
   "source": [
    "#### converting columns into their correct format"
   ]
  },
  {
   "attachments": {},
   "cell_type": "markdown",
   "metadata": {},
   "source": [
    "#### Handle null values"
   ]
  },
  {
   "cell_type": "code",
   "execution_count": 13,
   "metadata": {},
   "outputs": [
    {
     "data": {
      "text/plain": [
       "Occupation              10\n",
       "Monthly Income          13\n",
       "Credit Score            40\n",
       "Years of Employment     43\n",
       "Finance Status          23\n",
       "Finance History         28\n",
       "Car                     20\n",
       "Number of Children     125\n",
       "dtype: int64"
      ]
     },
     "execution_count": 13,
     "metadata": {},
     "output_type": "execute_result"
    }
   ],
   "source": [
    "data.isna().sum()"
   ]
  },
  {
   "cell_type": "code",
   "execution_count": 20,
   "metadata": {},
   "outputs": [
    {
     "name": "stdout",
     "output_type": "stream",
     "text": [
      "Occupation-------2.00\n",
      "Monthly Income-------2.60\n",
      "Credit Score-------8.00\n",
      "Years of Employment-------8.60\n",
      "Finance Status-------4.60\n",
      "Finance History-------5.60\n",
      "Car-------4.00\n",
      "Number of Children-------25.00\n"
     ]
    }
   ],
   "source": [
    "for col in data.columns:\n",
    "    if data[col].isnull().any():\n",
    "        print(f\"{col}-------{(data[col].isnull().sum()/data.shape[0])*100:.2f}\")"
   ]
  },
  {
   "attachments": {},
   "cell_type": "markdown",
   "metadata": {},
   "source": [
    "##### handle it using statistic properties "
   ]
  },
  {
   "cell_type": "code",
   "execution_count": 23,
   "metadata": {},
   "outputs": [],
   "source": [
    "categorical_columns=[]\n",
    "numerical_columns=[]\n",
    "\n",
    "for col in data.columns:\n",
    "    if data[col].dtype==\"object\":\n",
    "        categorical_columns.append(col)\n",
    "    else:\n",
    "        numerical_columns.append(col)"
   ]
  },
  {
   "cell_type": "code",
   "execution_count": 24,
   "metadata": {},
   "outputs": [
    {
     "data": {
      "text/plain": [
       "['Credit Score']"
      ]
     },
     "execution_count": 24,
     "metadata": {},
     "output_type": "execute_result"
    }
   ],
   "source": [
    "numerical_columns"
   ]
  },
  {
   "cell_type": "code",
   "execution_count": null,
   "metadata": {},
   "outputs": [],
   "source": []
  }
 ],
 "metadata": {
  "kernelspec": {
   "display_name": "Python 3",
   "language": "python",
   "name": "python3"
  },
  "language_info": {
   "codemirror_mode": {
    "name": "ipython",
    "version": 3
   },
   "file_extension": ".py",
   "mimetype": "text/x-python",
   "name": "python",
   "nbconvert_exporter": "python",
   "pygments_lexer": "ipython3",
   "version": "3.10.6"
  },
  "orig_nbformat": 4
 },
 "nbformat": 4,
 "nbformat_minor": 2
}
